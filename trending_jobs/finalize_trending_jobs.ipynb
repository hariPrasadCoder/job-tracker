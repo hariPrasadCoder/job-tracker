{
 "cells": [
  {
   "cell_type": "code",
   "execution_count": 1,
   "metadata": {},
   "outputs": [],
   "source": [
    "import pandas as pd"
   ]
  },
  {
   "cell_type": "code",
   "execution_count": 2,
   "metadata": {},
   "outputs": [],
   "source": [
    "df1 = pd.read_csv('trending_jobs.csv')\n",
    "df2 = pd.read_csv('trending_jobs_wk3_1.csv')\n",
    "# df3 = pd.read_csv('trending_jobs_SDE_to_Analyst.csv')"
   ]
  },
  {
   "cell_type": "code",
   "execution_count": 3,
   "metadata": {},
   "outputs": [],
   "source": [
    "df = pd.concat([df1, df2])"
   ]
  },
  {
   "cell_type": "code",
   "execution_count": 4,
   "metadata": {},
   "outputs": [],
   "source": [
    "# df = pd.read_csv('trending_jobs.csv')"
   ]
  },
  {
   "cell_type": "code",
   "execution_count": 5,
   "metadata": {},
   "outputs": [
    {
     "data": {
      "text/plain": [
       "array(['2023-09-13', '2023-09-12', '2023-09-08', '2023-09-09',\n",
       "       '2023-09-11', '2023-09-07', '2023-09-10', '2023-09-05',\n",
       "       '2023-07-14', '2023-08-16', '2023-08-21', '2023-08-25',\n",
       "       '2023-08-28', '2023-09-02', '2023-03-28', '2023-08-07',\n",
       "       '2023-08-17', '2023-08-19', '2023-08-22', '2023-09-06',\n",
       "       '2023-08-13', '2023-08-14', '2023-08-30', '2023-08-31',\n",
       "       '2023-09-01', '2023-07-11', '2023-08-08', '2023-08-18',\n",
       "       '2023-07-18', '2023-08-09', '2023-08-15', '2023-08-26',\n",
       "       '2023-08-29', '2023-06-25', '2023-09-03', '2023-08-05',\n",
       "       '2023-03-31', '2023-07-17', '2023-07-27', '2023-07-30',\n",
       "       '2023-08-01', '2023-08-23', '2023-03-29'], dtype=object)"
      ]
     },
     "execution_count": 5,
     "metadata": {},
     "output_type": "execute_result"
    }
   ],
   "source": [
    "df['Job_posted_date'].unique()"
   ]
  },
  {
   "cell_type": "code",
   "execution_count": 6,
   "metadata": {},
   "outputs": [],
   "source": [
    "df = df.drop_duplicates(subset='Link', keep=\"first\")"
   ]
  },
  {
   "cell_type": "code",
   "execution_count": 7,
   "metadata": {},
   "outputs": [],
   "source": [
    "df = df[~df['Job_description'].str.contains('Unable to scrape')]"
   ]
  },
  {
   "cell_type": "code",
   "execution_count": 8,
   "metadata": {},
   "outputs": [],
   "source": [
    "df = df[~df['Company'].str.contains('Recruit')]"
   ]
  },
  {
   "cell_type": "code",
   "execution_count": 9,
   "metadata": {},
   "outputs": [
    {
     "name": "stdout",
     "output_type": "stream",
     "text": [
      "Project Manager internship\n",
      "175\n",
      "Analyst internship\n",
      "56\n",
      "Supply Chain internship\n",
      "44\n",
      "Data Scientist\n",
      "251\n",
      "Data Analyst\n",
      "270\n",
      "Software Engineer\n",
      "176\n",
      "Data Engineer\n",
      "187\n",
      "Machine Learning Engineer\n",
      "88\n",
      "Supply Chain\n",
      "257\n",
      "Analyst\n",
      "208\n",
      "Product Manager\n",
      "259\n",
      "Project Manager\n",
      "267\n",
      "Data Science internship\n",
      "229\n",
      "Software Enginner internship\n",
      "158\n",
      "Data Analyst internship\n",
      "14\n",
      "Data Engineer internship\n",
      "57\n",
      "Machine Learning Engineer internship\n",
      "30\n",
      "Product Manager internship\n",
      "37\n"
     ]
    }
   ],
   "source": [
    "for category in df['Category'].unique():\n",
    "    print(category)\n",
    "    print(len(df[df['Category'] == category]))"
   ]
  },
  {
   "cell_type": "code",
   "execution_count": 10,
   "metadata": {},
   "outputs": [],
   "source": [
    "intern_df = df[df['Category'].str.lower().str.contains('intern')]\n",
    "ft_df = df[~df['Category'].str.lower().str.contains('intern')]"
   ]
  },
  {
   "cell_type": "code",
   "execution_count": 11,
   "metadata": {},
   "outputs": [],
   "source": [
    "# Drop internship roles which don't have intern in it\n",
    "intern_df = intern_df.drop(\n",
    "    intern_df[\n",
    "        ~(intern_df['Job_title'].str.lower().str.contains('intern'))\n",
    "    ].index\n",
    ")"
   ]
  },
  {
   "cell_type": "code",
   "execution_count": 12,
   "metadata": {},
   "outputs": [],
   "source": [
    "# Drop Data Science internship roles which don't have data & intern in it\n",
    "intern_df = intern_df.drop(\n",
    "    intern_df[\n",
    "        (intern_df['Category'] == 'Data Science internship')&\n",
    "        ~(intern_df['Job_title'].str.lower().str.contains('intern'))&\n",
    "         ~(intern_df['Job_title'].str.lower().str.contains('data'))\n",
    "    ].index\n",
    ")"
   ]
  },
  {
   "cell_type": "code",
   "execution_count": 13,
   "metadata": {},
   "outputs": [],
   "source": [
    "# Drop Data Analyst internship roles which don't have data & intern in it\n",
    "# intern_df = intern_df.drop(\n",
    "#     intern_df[\n",
    "#         (intern_df['Category'] == 'Data Analyst internship')&\n",
    "#         ~(intern_df['Job_title'].str.lower().str.contains('intern'))&\n",
    "#          ~(intern_df['Job_title'].str.lower().str.contains('data'))\n",
    "#     ].index\n",
    "# )"
   ]
  },
  {
   "cell_type": "code",
   "execution_count": 14,
   "metadata": {},
   "outputs": [],
   "source": [
    "# Drop Data Engineer internship roles which don't have data & intern in it\n",
    "# intern_df = intern_df.drop(\n",
    "#     intern_df[\n",
    "#         (intern_df['Category'] == 'Data Engineer internship')&\n",
    "#         ~(intern_df['Job_title'].str.lower().str.contains('intern'))&\n",
    "#          ~(intern_df['Job_title'].str.lower().str.contains('data'))\n",
    "#     ].index\n",
    "# )"
   ]
  },
  {
   "cell_type": "code",
   "execution_count": 15,
   "metadata": {},
   "outputs": [
    {
     "name": "stdout",
     "output_type": "stream",
     "text": [
      "Data Scientist\n",
      "251\n",
      "Data Analyst\n",
      "270\n",
      "Software Engineer\n",
      "176\n",
      "Data Engineer\n",
      "187\n",
      "Machine Learning Engineer\n",
      "88\n",
      "Supply Chain\n",
      "257\n",
      "Analyst\n",
      "208\n",
      "Product Manager\n",
      "259\n",
      "Project Manager\n",
      "267\n"
     ]
    }
   ],
   "source": [
    "for category in ft_df['Category'].unique():\n",
    "    print(category)\n",
    "    print(len(ft_df[ft_df['Category'] == category]))"
   ]
  },
  {
   "cell_type": "code",
   "execution_count": 16,
   "metadata": {},
   "outputs": [
    {
     "name": "stdout",
     "output_type": "stream",
     "text": [
      "Project Manager internship\n",
      "69\n",
      "Analyst internship\n",
      "46\n",
      "Supply Chain internship\n",
      "39\n",
      "Data Science internship\n",
      "208\n",
      "Software Enginner internship\n",
      "74\n",
      "Data Analyst internship\n",
      "11\n",
      "Data Engineer internship\n",
      "7\n",
      "Machine Learning Engineer internship\n",
      "6\n",
      "Product Manager internship\n",
      "21\n"
     ]
    }
   ],
   "source": [
    "for category in intern_df['Category'].unique():\n",
    "    print(category)\n",
    "    print(len(intern_df[intern_df['Category'] == category]))"
   ]
  },
  {
   "cell_type": "code",
   "execution_count": 230,
   "metadata": {},
   "outputs": [],
   "source": [
    "# # Drop roles without enough data\n",
    "# intern_df = intern_df.drop(\n",
    "#     intern_df[\n",
    "#         (intern_df['Category'] == 'Data Analyst internship')|\n",
    "#         (intern_df['Category'] == 'Product Manager internship')|\n",
    "#         (intern_df['Category'] == 'Data Engineer internship')|\n",
    "#         (intern_df['Category'] == 'Machine Learning Engineer internship')\n",
    "#     ].index\n",
    "# )"
   ]
  },
  {
   "cell_type": "code",
   "execution_count": 17,
   "metadata": {},
   "outputs": [
    {
     "name": "stdout",
     "output_type": "stream",
     "text": [
      "Project Manager internship\n",
      "69\n",
      "Analyst internship\n",
      "46\n",
      "Supply Chain internship\n",
      "39\n",
      "Data Science internship\n",
      "208\n",
      "Software Enginner internship\n",
      "74\n",
      "Data Analyst internship\n",
      "11\n",
      "Data Engineer internship\n",
      "7\n",
      "Machine Learning Engineer internship\n",
      "6\n",
      "Product Manager internship\n",
      "21\n"
     ]
    }
   ],
   "source": [
    "for category in intern_df['Category'].unique():\n",
    "    print(category)\n",
    "    print(len(intern_df[intern_df['Category'] == category]))"
   ]
  },
  {
   "cell_type": "code",
   "execution_count": 18,
   "metadata": {},
   "outputs": [],
   "source": [
    "intern_df['Category'] = 'Internships'"
   ]
  },
  {
   "cell_type": "code",
   "execution_count": 19,
   "metadata": {},
   "outputs": [],
   "source": [
    "df = pd.concat([ft_df,intern_df])"
   ]
  },
  {
   "cell_type": "code",
   "execution_count": 20,
   "metadata": {},
   "outputs": [
    {
     "data": {
      "text/plain": [
       "array(['2023-09-13', '2023-09-07', '2023-09-08', '2023-09-11',\n",
       "       '2023-09-12', '2023-09-06', '2023-09-10', '2023-09-09'],\n",
       "      dtype=object)"
      ]
     },
     "execution_count": 20,
     "metadata": {},
     "output_type": "execute_result"
    }
   ],
   "source": [
    "df['Job_posted_date'].unique()"
   ]
  },
  {
   "cell_type": "code",
   "execution_count": 21,
   "metadata": {},
   "outputs": [],
   "source": [
    "df = df.sample(frac=1)"
   ]
  },
  {
   "cell_type": "code",
   "execution_count": 22,
   "metadata": {},
   "outputs": [],
   "source": [
    "df.to_csv('trending_jobs_week4.csv')"
   ]
  },
  {
   "cell_type": "code",
   "execution_count": null,
   "metadata": {},
   "outputs": [],
   "source": []
  }
 ],
 "metadata": {
  "kernelspec": {
   "display_name": "venv",
   "language": "python",
   "name": "python3"
  },
  "language_info": {
   "codemirror_mode": {
    "name": "ipython",
    "version": 3
   },
   "file_extension": ".py",
   "mimetype": "text/x-python",
   "name": "python",
   "nbconvert_exporter": "python",
   "pygments_lexer": "ipython3",
   "version": "3.8.9"
  },
  "orig_nbformat": 4
 },
 "nbformat": 4,
 "nbformat_minor": 2
}
