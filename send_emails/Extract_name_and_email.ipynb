{
 "cells": [
  {
   "cell_type": "code",
   "execution_count": 14,
   "metadata": {},
   "outputs": [],
   "source": [
    "import os\n",
    "import smtplib\n",
    "from email.message import EmailMessage\n",
    "import pandas as pd"
   ]
  },
  {
   "cell_type": "code",
   "execution_count": 15,
   "metadata": {},
   "outputs": [],
   "source": [
    "# csv_to_read = 'Sample_comments.csv'\n",
    "csv_to_read_1 = 'hari_portfolio_comments_all.csv'\n",
    "# csv_to_read_2 = 'hari_portoflio_comments_2nd_post.csv'"
   ]
  },
  {
   "cell_type": "code",
   "execution_count": 16,
   "metadata": {},
   "outputs": [],
   "source": [
    "df = pd.read_csv(csv_to_read_1)\n",
    "# df2 = pd.read_csv(csv_to_read_2)"
   ]
  },
  {
   "cell_type": "code",
   "execution_count": 17,
   "metadata": {},
   "outputs": [],
   "source": [
    "# df = pd.concat([df1,df2])"
   ]
  },
  {
   "cell_type": "code",
   "execution_count": 18,
   "metadata": {},
   "outputs": [],
   "source": [
    "df = df[['firstName', 'comment']]"
   ]
  },
  {
   "cell_type": "code",
   "execution_count": 19,
   "metadata": {},
   "outputs": [],
   "source": [
    "df['Email_address']=df['comment'].str.findall('(\\S+@\\S+)')"
   ]
  },
  {
   "cell_type": "code",
   "execution_count": 20,
   "metadata": {},
   "outputs": [],
   "source": [
    "df = df[df['Email_address'].notnull()]"
   ]
  },
  {
   "cell_type": "code",
   "execution_count": 21,
   "metadata": {},
   "outputs": [],
   "source": [
    "all_emails = []\n",
    "for email in df['Email_address']:\n",
    "    if len(email)>0:\n",
    "        final = email[0]\n",
    "        final = final.replace('.com.', '.com')\n",
    "        final = final.replace('.com,', '.com')\n",
    "        final = final.replace('.edu.', '.edu')\n",
    "        final = final.replace('.edu,', '.edu')\n",
    "        all_emails.append(final)\n",
    "    else:\n",
    "        all_emails.append(None)\n",
    "\n",
    "df['Email_address'] = all_emails"
   ]
  },
  {
   "cell_type": "code",
   "execution_count": 22,
   "metadata": {},
   "outputs": [],
   "source": [
    "df = df[df['Email_address'].notnull()]"
   ]
  },
  {
   "cell_type": "code",
   "execution_count": 23,
   "metadata": {},
   "outputs": [
    {
     "data": {
      "text/html": [
       "<div>\n",
       "<style scoped>\n",
       "    .dataframe tbody tr th:only-of-type {\n",
       "        vertical-align: middle;\n",
       "    }\n",
       "\n",
       "    .dataframe tbody tr th {\n",
       "        vertical-align: top;\n",
       "    }\n",
       "\n",
       "    .dataframe thead th {\n",
       "        text-align: right;\n",
       "    }\n",
       "</style>\n",
       "<table border=\"1\" class=\"dataframe\">\n",
       "  <thead>\n",
       "    <tr style=\"text-align: right;\">\n",
       "      <th></th>\n",
       "      <th>firstName</th>\n",
       "      <th>comment</th>\n",
       "      <th>Email_address</th>\n",
       "    </tr>\n",
       "  </thead>\n",
       "  <tbody>\n",
       "    <tr>\n",
       "      <th>1</th>\n",
       "      <td>Sailesh</td>\n",
       "      <td>Saileshdogiparthi1999@gmail.com</td>\n",
       "      <td>Saileshdogiparthi1999@gmail.com</td>\n",
       "    </tr>\n",
       "    <tr>\n",
       "      <th>2</th>\n",
       "      <td>Qalb</td>\n",
       "      <td>haiderqalbe8@gmail.com</td>\n",
       "      <td>haiderqalbe8@gmail.com</td>\n",
       "    </tr>\n",
       "    <tr>\n",
       "      <th>3</th>\n",
       "      <td>Atharva</td>\n",
       "      <td>agalphade@usf.edu Thanks and congratulations !!</td>\n",
       "      <td>agalphade@usf.edu</td>\n",
       "    </tr>\n",
       "    <tr>\n",
       "      <th>4</th>\n",
       "      <td>Deepthi</td>\n",
       "      <td>deepthin@buffalo.edu</td>\n",
       "      <td>deepthin@buffalo.edu</td>\n",
       "    </tr>\n",
       "    <tr>\n",
       "      <th>5</th>\n",
       "      <td>Sneha</td>\n",
       "      <td>snehamaity02@gmail.com</td>\n",
       "      <td>snehamaity02@gmail.com</td>\n",
       "    </tr>\n",
       "    <tr>\n",
       "      <th>...</th>\n",
       "      <td>...</td>\n",
       "      <td>...</td>\n",
       "      <td>...</td>\n",
       "    </tr>\n",
       "    <tr>\n",
       "      <th>1510</th>\n",
       "      <td>Rishita</td>\n",
       "      <td>kalidindir@usf.edu</td>\n",
       "      <td>kalidindir@usf.edu</td>\n",
       "    </tr>\n",
       "    <tr>\n",
       "      <th>1512</th>\n",
       "      <td>Shamwil</td>\n",
       "      <td>akshamwil@outlook.com</td>\n",
       "      <td>akshamwil@outlook.com</td>\n",
       "    </tr>\n",
       "    <tr>\n",
       "      <th>1513</th>\n",
       "      <td>Deeptha</td>\n",
       "      <td>dt375@njit.edu</td>\n",
       "      <td>dt375@njit.edu</td>\n",
       "    </tr>\n",
       "    <tr>\n",
       "      <th>1514</th>\n",
       "      <td>Shanmuganathan</td>\n",
       "      <td>shans@vt.edu</td>\n",
       "      <td>shans@vt.edu</td>\n",
       "    </tr>\n",
       "    <tr>\n",
       "      <th>1515</th>\n",
       "      <td>Wajahat</td>\n",
       "      <td>wmkhan@jgu.edu.in</td>\n",
       "      <td>wmkhan@jgu.eduin</td>\n",
       "    </tr>\n",
       "  </tbody>\n",
       "</table>\n",
       "<p>1497 rows × 3 columns</p>\n",
       "</div>"
      ],
      "text/plain": [
       "           firstName                                          comment  \\\n",
       "1            Sailesh                  Saileshdogiparthi1999@gmail.com   \n",
       "2               Qalb                           haiderqalbe8@gmail.com   \n",
       "3            Atharva  agalphade@usf.edu Thanks and congratulations !!   \n",
       "4            Deepthi                             deepthin@buffalo.edu   \n",
       "5              Sneha                           snehamaity02@gmail.com   \n",
       "...              ...                                              ...   \n",
       "1510         Rishita                               kalidindir@usf.edu   \n",
       "1512         Shamwil                            akshamwil@outlook.com   \n",
       "1513         Deeptha                                   dt375@njit.edu   \n",
       "1514  Shanmuganathan                                     shans@vt.edu   \n",
       "1515         Wajahat                                wmkhan@jgu.edu.in   \n",
       "\n",
       "                        Email_address  \n",
       "1     Saileshdogiparthi1999@gmail.com  \n",
       "2              haiderqalbe8@gmail.com  \n",
       "3                   agalphade@usf.edu  \n",
       "4                deepthin@buffalo.edu  \n",
       "5              snehamaity02@gmail.com  \n",
       "...                               ...  \n",
       "1510               kalidindir@usf.edu  \n",
       "1512            akshamwil@outlook.com  \n",
       "1513                   dt375@njit.edu  \n",
       "1514                     shans@vt.edu  \n",
       "1515                 wmkhan@jgu.eduin  \n",
       "\n",
       "[1497 rows x 3 columns]"
      ]
     },
     "execution_count": 23,
     "metadata": {},
     "output_type": "execute_result"
    }
   ],
   "source": [
    "df"
   ]
  },
  {
   "cell_type": "code",
   "execution_count": 11,
   "metadata": {},
   "outputs": [],
   "source": [
    "already_sent = pd.read_csv('portfolio_send_marketing_campaign_hari.csv')\n",
    "df = df[~df['Email_address'].isin(already_sent['Email_address'])]"
   ]
  },
  {
   "cell_type": "code",
   "execution_count": 12,
   "metadata": {},
   "outputs": [
    {
     "data": {
      "text/html": [
       "<div>\n",
       "<style scoped>\n",
       "    .dataframe tbody tr th:only-of-type {\n",
       "        vertical-align: middle;\n",
       "    }\n",
       "\n",
       "    .dataframe tbody tr th {\n",
       "        vertical-align: top;\n",
       "    }\n",
       "\n",
       "    .dataframe thead th {\n",
       "        text-align: right;\n",
       "    }\n",
       "</style>\n",
       "<table border=\"1\" class=\"dataframe\">\n",
       "  <thead>\n",
       "    <tr style=\"text-align: right;\">\n",
       "      <th></th>\n",
       "      <th>firstName</th>\n",
       "      <th>comment</th>\n",
       "      <th>Email_address</th>\n",
       "    </tr>\n",
       "  </thead>\n",
       "  <tbody>\n",
       "    <tr>\n",
       "      <th>1</th>\n",
       "      <td>Sailesh</td>\n",
       "      <td>Saileshdogiparthi1999@gmail.com</td>\n",
       "      <td>Saileshdogiparthi1999@gmail.com</td>\n",
       "    </tr>\n",
       "    <tr>\n",
       "      <th>2</th>\n",
       "      <td>Qalb</td>\n",
       "      <td>haiderqalbe8@gmail.com</td>\n",
       "      <td>haiderqalbe8@gmail.com</td>\n",
       "    </tr>\n",
       "    <tr>\n",
       "      <th>3</th>\n",
       "      <td>Atharva</td>\n",
       "      <td>agalphade@usf.edu Thanks and congratulations !!</td>\n",
       "      <td>agalphade@usf.edu</td>\n",
       "    </tr>\n",
       "    <tr>\n",
       "      <th>4</th>\n",
       "      <td>Deepthi</td>\n",
       "      <td>deepthin@buffalo.edu</td>\n",
       "      <td>deepthin@buffalo.edu</td>\n",
       "    </tr>\n",
       "    <tr>\n",
       "      <th>5</th>\n",
       "      <td>Sneha</td>\n",
       "      <td>snehamaity02@gmail.com</td>\n",
       "      <td>snehamaity02@gmail.com</td>\n",
       "    </tr>\n",
       "    <tr>\n",
       "      <th>...</th>\n",
       "      <td>...</td>\n",
       "      <td>...</td>\n",
       "      <td>...</td>\n",
       "    </tr>\n",
       "    <tr>\n",
       "      <th>1402</th>\n",
       "      <td>Madhumitha</td>\n",
       "      <td>msukuma2@asu.edu</td>\n",
       "      <td>msukuma2@asu.edu</td>\n",
       "    </tr>\n",
       "    <tr>\n",
       "      <th>1403</th>\n",
       "      <td>Harsha</td>\n",
       "      <td>h.aalla@ufl.edu</td>\n",
       "      <td>h.aalla@ufl.edu</td>\n",
       "    </tr>\n",
       "    <tr>\n",
       "      <th>1404</th>\n",
       "      <td>Chinmay</td>\n",
       "      <td>crpathak@iu.edu\\nThanks!</td>\n",
       "      <td>crpathak@iu.edu</td>\n",
       "    </tr>\n",
       "    <tr>\n",
       "      <th>1405</th>\n",
       "      <td>Hima</td>\n",
       "      <td>hima.15@tamu.edu</td>\n",
       "      <td>hima.15@tamu.edu</td>\n",
       "    </tr>\n",
       "    <tr>\n",
       "      <th>1406</th>\n",
       "      <td>Saloni</td>\n",
       "      <td>saloni230301@gmail.com</td>\n",
       "      <td>saloni230301@gmail.com</td>\n",
       "    </tr>\n",
       "  </tbody>\n",
       "</table>\n",
       "<p>163 rows × 3 columns</p>\n",
       "</div>"
      ],
      "text/plain": [
       "       firstName                                          comment  \\\n",
       "1        Sailesh                  Saileshdogiparthi1999@gmail.com   \n",
       "2           Qalb                           haiderqalbe8@gmail.com   \n",
       "3        Atharva  agalphade@usf.edu Thanks and congratulations !!   \n",
       "4        Deepthi                             deepthin@buffalo.edu   \n",
       "5          Sneha                           snehamaity02@gmail.com   \n",
       "...          ...                                              ...   \n",
       "1402  Madhumitha                                 msukuma2@asu.edu   \n",
       "1403      Harsha                                  h.aalla@ufl.edu   \n",
       "1404     Chinmay                         crpathak@iu.edu\\nThanks!   \n",
       "1405        Hima                                 hima.15@tamu.edu   \n",
       "1406      Saloni                           saloni230301@gmail.com   \n",
       "\n",
       "                        Email_address  \n",
       "1     Saileshdogiparthi1999@gmail.com  \n",
       "2              haiderqalbe8@gmail.com  \n",
       "3                   agalphade@usf.edu  \n",
       "4                deepthin@buffalo.edu  \n",
       "5              snehamaity02@gmail.com  \n",
       "...                               ...  \n",
       "1402                 msukuma2@asu.edu  \n",
       "1403                  h.aalla@ufl.edu  \n",
       "1404                  crpathak@iu.edu  \n",
       "1405                 hima.15@tamu.edu  \n",
       "1406           saloni230301@gmail.com  \n",
       "\n",
       "[163 rows x 3 columns]"
      ]
     },
     "execution_count": 12,
     "metadata": {},
     "output_type": "execute_result"
    }
   ],
   "source": [
    "df"
   ]
  },
  {
   "cell_type": "code",
   "execution_count": 24,
   "metadata": {},
   "outputs": [],
   "source": [
    "df.to_csv('portfolio_send_marketing_campaign_hari.csv')"
   ]
  },
  {
   "cell_type": "code",
   "execution_count": 13,
   "metadata": {},
   "outputs": [],
   "source": [
    "df.to_csv('second.csv')"
   ]
  },
  {
   "cell_type": "code",
   "execution_count": null,
   "metadata": {},
   "outputs": [],
   "source": []
  }
 ],
 "metadata": {
  "kernelspec": {
   "display_name": "venv",
   "language": "python",
   "name": "python3"
  },
  "language_info": {
   "codemirror_mode": {
    "name": "ipython",
    "version": 3
   },
   "file_extension": ".py",
   "mimetype": "text/x-python",
   "name": "python",
   "nbconvert_exporter": "python",
   "pygments_lexer": "ipython3",
   "version": "3.8.9"
  },
  "orig_nbformat": 4
 },
 "nbformat": 4,
 "nbformat_minor": 2
}
