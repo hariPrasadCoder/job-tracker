{
 "cells": [
  {
   "cell_type": "code",
   "execution_count": 214,
   "metadata": {},
   "outputs": [],
   "source": [
    "import pandas as pd"
   ]
  },
  {
   "cell_type": "code",
   "execution_count": 215,
   "metadata": {},
   "outputs": [],
   "source": [
    "df1 = pd.read_csv('trending_jobs.csv')\n",
    "df2 = pd.read_csv('trending_jobs_DS_DA.csv')\n",
    "df3 = pd.read_csv('trending_jobs_SDE_to_Analyst.csv')"
   ]
  },
  {
   "cell_type": "code",
   "execution_count": 216,
   "metadata": {},
   "outputs": [],
   "source": [
    "df = pd.concat([df1, df2, df3])"
   ]
  },
  {
   "cell_type": "code",
   "execution_count": 217,
   "metadata": {},
   "outputs": [],
   "source": [
    "# df = pd.read_csv('trending_jobs.csv')"
   ]
  },
  {
   "cell_type": "code",
   "execution_count": 218,
   "metadata": {},
   "outputs": [
    {
     "data": {
      "text/plain": [
       "array(['2023-08-24', '2023-08-19', '2023-08-21', '2023-08-22',\n",
       "       '2023-08-23', '2023-08-25', '2023-08-18', '2023-08-20',\n",
       "       '2023-08-08', '2023-06-22', '2023-06-25', '2023-06-30',\n",
       "       '2023-07-18', '2023-07-25', '2023-07-27', '2023-08-05',\n",
       "       '2023-08-09', '2023-08-14', '2023-08-15', '2023-08-16',\n",
       "       '2023-03-28', '2023-08-11', '2023-03-31', '2023-06-27',\n",
       "       '2023-07-17', '2023-07-30', '2023-08-01', '2023-08-10',\n",
       "       '2023-03-29', '2023-04-05', '2023-04-15', '2023-05-02',\n",
       "       '2023-06-14', '2023-08-17', '2023-03-26', '2023-04-07',\n",
       "       '2023-07-14', '2023-07-28', '2023-07-29', '2023-08-03',\n",
       "       '2023-03-15', '2023-05-05', '2023-07-10', '2023-07-11',\n",
       "       '2023-07-15', '2023-07-21', '2023-04-19', '2023-06-01',\n",
       "       '2023-07-07'], dtype=object)"
      ]
     },
     "execution_count": 218,
     "metadata": {},
     "output_type": "execute_result"
    }
   ],
   "source": [
    "df['Job_posted_date'].unique()"
   ]
  },
  {
   "cell_type": "code",
   "execution_count": 219,
   "metadata": {},
   "outputs": [],
   "source": [
    "df = df.drop_duplicates(subset='Link', keep=\"first\")"
   ]
  },
  {
   "cell_type": "code",
   "execution_count": 220,
   "metadata": {},
   "outputs": [],
   "source": [
    "df = df[~df['Job_description'].str.contains('Unable to scrape')]"
   ]
  },
  {
   "cell_type": "code",
   "execution_count": 221,
   "metadata": {},
   "outputs": [],
   "source": [
    "df = df[~df['Company'].str.contains('Recruit')]"
   ]
  },
  {
   "cell_type": "code",
   "execution_count": 222,
   "metadata": {},
   "outputs": [
    {
     "name": "stdout",
     "output_type": "stream",
     "text": [
      "Product Manager\n",
      "272\n",
      "Project Manager\n",
      "237\n",
      "Data Science internship\n",
      "204\n",
      "Software Enginner internship\n",
      "143\n",
      "Data Analyst internship\n",
      "6\n",
      "Data Engineer internship\n",
      "48\n",
      "Machine Learning Engineer internship\n",
      "22\n",
      "Product Manager internship\n",
      "52\n",
      "Project Manager internship\n",
      "83\n",
      "Analyst internship\n",
      "36\n",
      "Supply Chain internship\n",
      "52\n",
      "Data Scientist\n",
      "184\n",
      "Data Analyst\n",
      "200\n",
      "Software Engineer\n",
      "230\n",
      "Data Engineer\n",
      "200\n",
      "Machine Learning Engineer\n",
      "112\n",
      "Supply Chain\n",
      "259\n",
      "Analyst\n",
      "228\n"
     ]
    }
   ],
   "source": [
    "for category in df['Category'].unique():\n",
    "    print(category)\n",
    "    print(len(df[df['Category'] == category]))"
   ]
  },
  {
   "cell_type": "code",
   "execution_count": 223,
   "metadata": {},
   "outputs": [],
   "source": [
    "intern_df = df[df['Category'].str.lower().str.contains('intern')]\n",
    "ft_df = df[~df['Category'].str.lower().str.contains('intern')]"
   ]
  },
  {
   "cell_type": "code",
   "execution_count": 224,
   "metadata": {},
   "outputs": [],
   "source": [
    "# Drop internship roles which don't have intern in it\n",
    "intern_df = intern_df.drop(\n",
    "    intern_df[\n",
    "        ~(intern_df['Job_title'].str.lower().str.contains('intern'))\n",
    "    ].index\n",
    ")"
   ]
  },
  {
   "cell_type": "code",
   "execution_count": 225,
   "metadata": {},
   "outputs": [],
   "source": [
    "# Drop Data Science internship roles which don't have data & intern in it\n",
    "intern_df = intern_df.drop(\n",
    "    intern_df[\n",
    "        (intern_df['Category'] == 'Data Science internship')&\n",
    "        ~(intern_df['Job_title'].str.lower().str.contains('intern'))&\n",
    "         ~(intern_df['Job_title'].str.lower().str.contains('data'))\n",
    "    ].index\n",
    ")"
   ]
  },
  {
   "cell_type": "code",
   "execution_count": 226,
   "metadata": {},
   "outputs": [],
   "source": [
    "# Drop Data Analyst internship roles which don't have data & intern in it\n",
    "# intern_df = intern_df.drop(\n",
    "#     intern_df[\n",
    "#         (intern_df['Category'] == 'Data Analyst internship')&\n",
    "#         ~(intern_df['Job_title'].str.lower().str.contains('intern'))&\n",
    "#          ~(intern_df['Job_title'].str.lower().str.contains('data'))\n",
    "#     ].index\n",
    "# )"
   ]
  },
  {
   "cell_type": "code",
   "execution_count": 227,
   "metadata": {},
   "outputs": [],
   "source": [
    "# Drop Data Engineer internship roles which don't have data & intern in it\n",
    "# intern_df = intern_df.drop(\n",
    "#     intern_df[\n",
    "#         (intern_df['Category'] == 'Data Engineer internship')&\n",
    "#         ~(intern_df['Job_title'].str.lower().str.contains('intern'))&\n",
    "#          ~(intern_df['Job_title'].str.lower().str.contains('data'))\n",
    "#     ].index\n",
    "# )"
   ]
  },
  {
   "cell_type": "code",
   "execution_count": 228,
   "metadata": {},
   "outputs": [
    {
     "name": "stdout",
     "output_type": "stream",
     "text": [
      "Product Manager\n",
      "272\n",
      "Project Manager\n",
      "237\n",
      "Data Scientist\n",
      "184\n",
      "Data Analyst\n",
      "200\n",
      "Software Engineer\n",
      "230\n",
      "Data Engineer\n",
      "200\n",
      "Machine Learning Engineer\n",
      "112\n",
      "Supply Chain\n",
      "259\n",
      "Analyst\n",
      "228\n"
     ]
    }
   ],
   "source": [
    "for category in ft_df['Category'].unique():\n",
    "    print(category)\n",
    "    print(len(ft_df[ft_df['Category'] == category]))"
   ]
  },
  {
   "cell_type": "code",
   "execution_count": 229,
   "metadata": {},
   "outputs": [
    {
     "name": "stdout",
     "output_type": "stream",
     "text": [
      "Data Science internship\n",
      "149\n",
      "Software Enginner internship\n",
      "40\n",
      "Data Analyst internship\n",
      "4\n",
      "Data Engineer internship\n",
      "2\n",
      "Machine Learning Engineer internship\n",
      "2\n",
      "Product Manager internship\n",
      "9\n",
      "Project Manager internship\n",
      "32\n",
      "Analyst internship\n",
      "27\n",
      "Supply Chain internship\n",
      "22\n"
     ]
    }
   ],
   "source": [
    "for category in intern_df['Category'].unique():\n",
    "    print(category)\n",
    "    print(len(intern_df[intern_df['Category'] == category]))"
   ]
  },
  {
   "cell_type": "code",
   "execution_count": 230,
   "metadata": {},
   "outputs": [],
   "source": [
    "# # Drop roles without enough data\n",
    "# intern_df = intern_df.drop(\n",
    "#     intern_df[\n",
    "#         (intern_df['Category'] == 'Data Analyst internship')|\n",
    "#         (intern_df['Category'] == 'Product Manager internship')|\n",
    "#         (intern_df['Category'] == 'Data Engineer internship')|\n",
    "#         (intern_df['Category'] == 'Machine Learning Engineer internship')\n",
    "#     ].index\n",
    "# )"
   ]
  },
  {
   "cell_type": "code",
   "execution_count": 231,
   "metadata": {},
   "outputs": [
    {
     "name": "stdout",
     "output_type": "stream",
     "text": [
      "Data Science internship\n",
      "149\n",
      "Software Enginner internship\n",
      "40\n",
      "Data Analyst internship\n",
      "4\n",
      "Data Engineer internship\n",
      "2\n",
      "Machine Learning Engineer internship\n",
      "2\n",
      "Product Manager internship\n",
      "9\n",
      "Project Manager internship\n",
      "32\n",
      "Analyst internship\n",
      "27\n",
      "Supply Chain internship\n",
      "22\n"
     ]
    }
   ],
   "source": [
    "for category in intern_df['Category'].unique():\n",
    "    print(category)\n",
    "    print(len(intern_df[intern_df['Category'] == category]))"
   ]
  },
  {
   "cell_type": "code",
   "execution_count": 232,
   "metadata": {},
   "outputs": [],
   "source": [
    "intern_df['Category'] = 'Internships'"
   ]
  },
  {
   "cell_type": "code",
   "execution_count": 233,
   "metadata": {},
   "outputs": [],
   "source": [
    "df = pd.concat([ft_df,intern_df])"
   ]
  },
  {
   "cell_type": "code",
   "execution_count": 234,
   "metadata": {},
   "outputs": [
    {
     "data": {
      "text/plain": [
       "array(['2023-08-24', '2023-08-19', '2023-08-21', '2023-08-22',\n",
       "       '2023-08-23', '2023-08-25', '2023-08-18', '2023-08-20',\n",
       "       '2023-08-17'], dtype=object)"
      ]
     },
     "execution_count": 234,
     "metadata": {},
     "output_type": "execute_result"
    }
   ],
   "source": [
    "df['Job_posted_date'].unique()"
   ]
  },
  {
   "cell_type": "code",
   "execution_count": 235,
   "metadata": {},
   "outputs": [],
   "source": [
    "df = df.sample(frac=1)"
   ]
  },
  {
   "cell_type": "code",
   "execution_count": 236,
   "metadata": {},
   "outputs": [],
   "source": [
    "df.to_csv('trending_jobs_week2.csv')"
   ]
  },
  {
   "cell_type": "code",
   "execution_count": null,
   "metadata": {},
   "outputs": [],
   "source": []
  }
 ],
 "metadata": {
  "kernelspec": {
   "display_name": "venv",
   "language": "python",
   "name": "python3"
  },
  "language_info": {
   "codemirror_mode": {
    "name": "ipython",
    "version": 3
   },
   "file_extension": ".py",
   "mimetype": "text/x-python",
   "name": "python",
   "nbconvert_exporter": "python",
   "pygments_lexer": "ipython3",
   "version": "3.8.9"
  },
  "orig_nbformat": 4
 },
 "nbformat": 4,
 "nbformat_minor": 2
}
